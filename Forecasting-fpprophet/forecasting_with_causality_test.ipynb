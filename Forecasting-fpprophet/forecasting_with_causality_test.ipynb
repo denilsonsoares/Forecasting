{
 "cells": [
  {
   "cell_type": "code",
   "execution_count": 1,
   "id": "initial_id",
   "metadata": {
    "collapsed": true,
    "ExecuteTime": {
     "end_time": "2024-03-26T15:59:00.951417Z",
     "start_time": "2024-03-26T15:59:00.147503Z"
    }
   },
   "outputs": [],
   "source": [
    "import pandas as pd\n",
    "from statsmodels.tsa.api import VAR\n",
    "from statsmodels.tsa.stattools import grangercausalitytests"
   ]
  },
  {
   "cell_type": "code",
   "outputs": [],
   "source": [
    "pvc_brl = pd.read_excel('PVC_BRL.xlsx', sheet_name='PVC_BRL')\n",
    "pvc_usa = pd.read_excel('PVC_USA.xlsx', sheet_name='PVC_USA')"
   ],
   "metadata": {
    "collapsed": false,
    "ExecuteTime": {
     "end_time": "2024-03-26T15:59:07.413144Z",
     "start_time": "2024-03-26T15:59:06.433635Z"
    }
   },
   "id": "19324225b09d88d7",
   "execution_count": 2
  },
  {
   "cell_type": "code",
   "outputs": [],
   "source": [
    "from Utils.Interpolate import Interpolate\n",
    "\n",
    "pvc_brl['PVC BRL/tonne'] = pvc_brl['PVC BRL/tonne'].diff().dropna() \n",
    "pvc_usa['PVC BRL/tonne'] = pvc_usa['PVC BRL/tonne'].diff().dropna()\n",
    "\n",
    "data_dict = {\n",
    "    'pvc_usa': pvc_usa,\n",
    "    'pvc_brl': pvc_brl,\n",
    "}\n",
    "\n",
    "\n",
    "for name in data_dict:\n",
    "    data_dict[name] = data_dict[name].set_index(\"Date\")"
   ],
   "metadata": {
    "collapsed": false,
    "ExecuteTime": {
     "end_time": "2024-03-26T15:59:10.724825Z",
     "start_time": "2024-03-26T15:59:10.692460Z"
    }
   },
   "id": "2014345e2bed3ea7",
   "execution_count": 3
  },
  {
   "cell_type": "code",
   "outputs": [],
   "source": [
    "interp = Interpolate(data_dict)\n",
    "df = interp.process_data()\n",
    "df.fillna(method='bfill', inplace=True)\n",
    "df = df.dropna()\n"
   ],
   "metadata": {
    "collapsed": false,
    "ExecuteTime": {
     "end_time": "2024-03-26T15:59:14.221376Z",
     "start_time": "2024-03-26T15:59:14.113817Z"
    }
   },
   "id": "885731b27e75261c",
   "execution_count": 4
  },
  {
   "cell_type": "code",
   "outputs": [
    {
     "data": {
      "text/plain": "               pvc_usa  pvc_brl\nDate                           \n2000-04-03  151.534000  -28.582\n2000-04-10  151.534000  -28.582\n2000-04-17  151.534000  -28.582\n2000-04-24  151.534000  -28.582\n2000-05-01  151.534000  -28.582\n...                ...      ...\n2024-01-01 -119.597000   12.968\n2024-01-08    2.940258  -26.289\n2024-01-15  125.477516 -202.763\n2024-01-22  248.014774  -13.096\n2024-01-29  370.552032  306.803\n\n[1244 rows x 2 columns]",
      "text/html": "<div>\n<style scoped>\n    .dataframe tbody tr th:only-of-type {\n        vertical-align: middle;\n    }\n\n    .dataframe tbody tr th {\n        vertical-align: top;\n    }\n\n    .dataframe thead th {\n        text-align: right;\n    }\n</style>\n<table border=\"1\" class=\"dataframe\">\n  <thead>\n    <tr style=\"text-align: right;\">\n      <th></th>\n      <th>pvc_usa</th>\n      <th>pvc_brl</th>\n    </tr>\n    <tr>\n      <th>Date</th>\n      <th></th>\n      <th></th>\n    </tr>\n  </thead>\n  <tbody>\n    <tr>\n      <th>2000-04-03</th>\n      <td>151.534000</td>\n      <td>-28.582</td>\n    </tr>\n    <tr>\n      <th>2000-04-10</th>\n      <td>151.534000</td>\n      <td>-28.582</td>\n    </tr>\n    <tr>\n      <th>2000-04-17</th>\n      <td>151.534000</td>\n      <td>-28.582</td>\n    </tr>\n    <tr>\n      <th>2000-04-24</th>\n      <td>151.534000</td>\n      <td>-28.582</td>\n    </tr>\n    <tr>\n      <th>2000-05-01</th>\n      <td>151.534000</td>\n      <td>-28.582</td>\n    </tr>\n    <tr>\n      <th>...</th>\n      <td>...</td>\n      <td>...</td>\n    </tr>\n    <tr>\n      <th>2024-01-01</th>\n      <td>-119.597000</td>\n      <td>12.968</td>\n    </tr>\n    <tr>\n      <th>2024-01-08</th>\n      <td>2.940258</td>\n      <td>-26.289</td>\n    </tr>\n    <tr>\n      <th>2024-01-15</th>\n      <td>125.477516</td>\n      <td>-202.763</td>\n    </tr>\n    <tr>\n      <th>2024-01-22</th>\n      <td>248.014774</td>\n      <td>-13.096</td>\n    </tr>\n    <tr>\n      <th>2024-01-29</th>\n      <td>370.552032</td>\n      <td>306.803</td>\n    </tr>\n  </tbody>\n</table>\n<p>1244 rows × 2 columns</p>\n</div>"
     },
     "execution_count": 5,
     "metadata": {},
     "output_type": "execute_result"
    }
   ],
   "source": [
    "df"
   ],
   "metadata": {
    "collapsed": false,
    "ExecuteTime": {
     "end_time": "2024-03-26T15:59:24.022830Z",
     "start_time": "2024-03-26T15:59:23.986181Z"
    }
   },
   "id": "2cdced15745d874e",
   "execution_count": 5
  },
  {
   "cell_type": "code",
   "outputs": [
    {
     "name": "stdout",
     "output_type": "stream",
     "text": [
      "{1: 9.88963056798517e-07}\n"
     ]
    },
    {
     "name": "stderr",
     "output_type": "stream",
     "text": [
      "C:\\Users\\Denil\\anaconda3\\envs\\time_series\\lib\\site-packages\\statsmodels\\tsa\\stattools.py:1488: FutureWarning: verbose is deprecated since functions should not print results\n",
      "  warnings.warn(\n"
     ]
    }
   ],
   "source": [
    "# Convert the dictionary of dataframes into a single dataframe for VAR model\n",
    "#df_combined = pd.concat(data_dict, axis=1)\n",
    "\n",
    "# Fit a VAR model\n",
    "model = VAR(df)\n",
    "results = model.fit(maxlags=1)\n",
    "\n",
    "# Perform Granger Causality Test\n",
    "granger_test_results = grangercausalitytests(df, maxlag=1, verbose=False)\n",
    "\n",
    "# Check p-values to confirm Granger causality\n",
    "p_values = {key: value[0]['ssr_ftest'][1] for key, value in granger_test_results.items()}\n",
    "print(p_values)\n"
   ],
   "metadata": {
    "collapsed": false,
    "ExecuteTime": {
     "end_time": "2024-03-26T16:00:02.706862Z",
     "start_time": "2024-03-26T16:00:02.575024Z"
    }
   },
   "id": "4c81b7d1dff97e82",
   "execution_count": 6
  },
  {
   "cell_type": "code",
   "outputs": [],
   "source": [
    "# Forecasting\n",
    "pvc_brl = pd.read_excel('PVC_BRL.xlsx', sheet_name='PVC_BRL')\n",
    "pvc_usa = pd.read_excel('PVC_USA.xlsx', sheet_name='PVC_USA')\n",
    "from Utils.Interpolate import Interpolate\n",
    "\n",
    "data_dict = {\n",
    "    'pvc_usa': pvc_usa,\n",
    "    'pvc_brl': pvc_brl,\n",
    "}\n",
    "\n",
    "for name in data_dict:\n",
    "    data_dict[name] = data_dict[name].set_index(\"Date\")\n",
    "\n",
    "interp = Interpolate(data_dict)\n",
    "df = interp.process_data()\n",
    "df.fillna(method='bfill', inplace=True)\n",
    "df = df.dropna()\n"
   ],
   "metadata": {
    "collapsed": false,
    "ExecuteTime": {
     "end_time": "2024-03-26T16:01:45.512369Z",
     "start_time": "2024-03-26T16:01:45.198231Z"
    }
   },
   "id": "d927f8afea275abc",
   "execution_count": 13
  },
  {
   "cell_type": "code",
   "outputs": [
    {
     "data": {
      "text/plain": "                pvc_usa   pvc_brl\nDate                             \n2000-04-03  1688.259267  1842.534\n2000-04-10  1723.617200  1842.534\n2000-04-17  1758.975133  1842.534\n2000-04-24  1794.333067  1842.534\n2000-05-01  1829.691000  1842.534\n...                 ...       ...\n2024-01-01  7328.679000  5650.607\n2024-01-08  7424.210484  5624.318\n2024-01-15  7519.741968  5421.555\n2024-01-22  7615.273452  5408.459\n2024-01-29  7710.804935  5715.262\n\n[1244 rows x 2 columns]",
      "text/html": "<div>\n<style scoped>\n    .dataframe tbody tr th:only-of-type {\n        vertical-align: middle;\n    }\n\n    .dataframe tbody tr th {\n        vertical-align: top;\n    }\n\n    .dataframe thead th {\n        text-align: right;\n    }\n</style>\n<table border=\"1\" class=\"dataframe\">\n  <thead>\n    <tr style=\"text-align: right;\">\n      <th></th>\n      <th>pvc_usa</th>\n      <th>pvc_brl</th>\n    </tr>\n    <tr>\n      <th>Date</th>\n      <th></th>\n      <th></th>\n    </tr>\n  </thead>\n  <tbody>\n    <tr>\n      <th>2000-04-03</th>\n      <td>1688.259267</td>\n      <td>1842.534</td>\n    </tr>\n    <tr>\n      <th>2000-04-10</th>\n      <td>1723.617200</td>\n      <td>1842.534</td>\n    </tr>\n    <tr>\n      <th>2000-04-17</th>\n      <td>1758.975133</td>\n      <td>1842.534</td>\n    </tr>\n    <tr>\n      <th>2000-04-24</th>\n      <td>1794.333067</td>\n      <td>1842.534</td>\n    </tr>\n    <tr>\n      <th>2000-05-01</th>\n      <td>1829.691000</td>\n      <td>1842.534</td>\n    </tr>\n    <tr>\n      <th>...</th>\n      <td>...</td>\n      <td>...</td>\n    </tr>\n    <tr>\n      <th>2024-01-01</th>\n      <td>7328.679000</td>\n      <td>5650.607</td>\n    </tr>\n    <tr>\n      <th>2024-01-08</th>\n      <td>7424.210484</td>\n      <td>5624.318</td>\n    </tr>\n    <tr>\n      <th>2024-01-15</th>\n      <td>7519.741968</td>\n      <td>5421.555</td>\n    </tr>\n    <tr>\n      <th>2024-01-22</th>\n      <td>7615.273452</td>\n      <td>5408.459</td>\n    </tr>\n    <tr>\n      <th>2024-01-29</th>\n      <td>7710.804935</td>\n      <td>5715.262</td>\n    </tr>\n  </tbody>\n</table>\n<p>1244 rows × 2 columns</p>\n</div>"
     },
     "execution_count": 14,
     "metadata": {},
     "output_type": "execute_result"
    }
   ],
   "source": [
    "df"
   ],
   "metadata": {
    "collapsed": false,
    "ExecuteTime": {
     "end_time": "2024-03-26T16:01:47.435456Z",
     "start_time": "2024-03-26T16:01:47.415004Z"
    }
   },
   "id": "eec75bfe67b27678",
   "execution_count": 14
  },
  {
   "cell_type": "code",
   "outputs": [],
   "source": [
    "\n",
    "#Fazer as previsões\n",
    "lag_order = results.k_ar\n",
    "forecasted_values = results.forecast(df.values[-lag_order:], steps=5)\n",
    "\n",
    "# Convert forecasted values to a DataFrame\n",
    "df_forecast = pd.DataFrame(forecasted_values, index=pd.date_range(start=df.index[-1], periods=5, freq='M'), columns=df.columns)\n",
    "\n",
    "print(df_forecast)"
   ],
   "metadata": {
    "collapsed": false
   },
   "id": "ea03885779b9ad75"
  },
  {
   "cell_type": "code",
   "outputs": [],
   "source": [
    "import seaborn as sns\n",
    "import matplotlib.pyplot as plt\n",
    "\n",
    "# Assuming 'granger_test_results' is a dictionary with your Granger causality test results\n",
    "# where the keys are the names of the tests and the values are the test statistics\n",
    "\n",
    "# Create a DataFrame from the dictionary\n",
    "df_results = pd.DataFrame.from_dict(granger_test_results, orient='index')\n",
    "\n",
    "# Set up the matplotlib figure\n",
    "plt.figure(figsize=(12, 8))\n",
    "\n",
    "# Draw the heatmap with the mask and correct aspect ratio\n",
    "sns.heatmap(df_results, annot=True, fmt=\".2f\", linewidths=.5, cmap='coolwarm')\n",
    "\n",
    "# Add labels and a title\n",
    "plt.title('Granger Causality Test Results')\n",
    "plt.xlabel('Test Statistics')\n",
    "plt.ylabel('Lag')\n",
    "\n",
    "# Show the plot\n",
    "plt.show()\n"
   ],
   "metadata": {
    "collapsed": false
   },
   "id": "ab43a3e506a14394"
  }
 ],
 "metadata": {
  "kernelspec": {
   "display_name": "Python 3",
   "language": "python",
   "name": "python3"
  },
  "language_info": {
   "codemirror_mode": {
    "name": "ipython",
    "version": 2
   },
   "file_extension": ".py",
   "mimetype": "text/x-python",
   "name": "python",
   "nbconvert_exporter": "python",
   "pygments_lexer": "ipython2",
   "version": "2.7.6"
  }
 },
 "nbformat": 4,
 "nbformat_minor": 5
}
